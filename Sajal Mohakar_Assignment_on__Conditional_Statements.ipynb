{
  "cells": [
    {
      "cell_type": "markdown",
      "metadata": {
        "id": "AcR_27Hh5QTe"
      },
      "source": [
        "Take three numbers 'x', 'y' and 'z' as input from the user and check which number is greater\n"
      ]
    },
    {
      "cell_type": "code",
      "execution_count": null,
      "metadata": {
        "id": "ZqmjTxbD5QG4"
      },
      "outputs": [
        {
          "ename": "",
          "evalue": "",
          "output_type": "error",
          "traceback": [
            "\u001b[1;31mRunning cells with 'Python 3.9.2' requires the ipykernel package.\n",
            "\u001b[1;31mRun the following command to install 'ipykernel' into the Python environment. \n",
            "\u001b[1;31mCommand: 'c:/Users/lenovo/AppData/Local/Programs/Python/Python39/python.exe -m pip install ipykernel -U --user --force-reinstall'"
          ]
        }
      ],
      "source": [
        "x=int(input('Enter your no.:',))\n",
        "y=int(input('Enter your no.'))\n",
        "z=int(input('enter you no.:',))\n",
        "if x > y > z:\n",
        "    print(\"x is greater than y and z\")\n",
        "elif y > x > z:\n",
        "    print('Y is greater than x and z')   \n",
        "else:\n",
        "    print(\"z is greater\")     "
      ]
    },
    {
      "cell_type": "markdown",
      "metadata": {
        "id": "QgkCsQlx4c5Y"
      },
      "source": [
        "Take an alphabet as input from the user and check if the alphabet is a vowel, consonant or an exception\n",
        "\n",
        "\n",
        "Vowel - 'a','e','i','o','u'\n",
        "\n",
        "Exception - 'h', 'y'\n",
        "\n",
        "Consonant - rest other alphabets"
      ]
    },
    {
      "cell_type": "code",
      "execution_count": null,
      "metadata": {
        "id": "mTRgMPbt4dTk"
      },
      "outputs": [
        {
          "ename": "",
          "evalue": "",
          "output_type": "error",
          "traceback": [
            "\u001b[1;31mRunning cells with 'Python 3.9.2' requires the ipykernel package.\n",
            "\u001b[1;31mRun the following command to install 'ipykernel' into the Python environment. \n",
            "\u001b[1;31mCommand: 'c:/Users/lenovo/AppData/Local/Programs/Python/Python39/python.exe -m pip install ipykernel -U --user --force-reinstall'"
          ]
        }
      ],
      "source": [
        "\n",
        "int(input('Enter your alphabet:'))\n",
        "if (alphabet ='a','e','i','o','u'):\n",
        "    print('vowel')\n",
        "elif(alphabet='h','y'):\n",
        "    print('This are Exception')   \n",
        "else:\n",
        "    print('rest other are alphabet')     \n"
      ]
    },
    {
      "cell_type": "markdown",
      "metadata": {
        "id": "5TqcIsuG4N4x"
      },
      "source": [
        "Write a program to check whether a number given by a user is divisible by 2 and 3 both"
      ]
    },
    {
      "cell_type": "code",
      "execution_count": null,
      "metadata": {
        "id": "1TobEmuY4NkT"
      },
      "outputs": [
        {
          "ename": "",
          "evalue": "",
          "output_type": "error",
          "traceback": [
            "\u001b[1;31mRunning cells with 'Python 3.9.2' requires the ipykernel package.\n",
            "\u001b[1;31mRun the following command to install 'ipykernel' into the Python environment. \n",
            "\u001b[1;31mCommand: 'c:/Users/lenovo/AppData/Local/Programs/Python/Python39/python.exe -m pip install ipykernel -U --user --force-reinstall'"
          ]
        }
      ],
      "source": [
        "num = int(input(\"Enter the number:\"))\n",
        "if num%3==0 :\n",
        "    print(\"the number is odd\")\n",
        "else:\n",
        "    print(\"the number is even\")\n",
        "\n",
        "num = int(input(\"Enter the number:\"))\n",
        "if num%2!=0 :\n",
        "    print(\"the number is odd\")\n",
        "else:\n",
        "    print(\"the number is even\")"
      ]
    },
    {
      "cell_type": "markdown",
      "metadata": {
        "id": "Vl0l7eM93o-k"
      },
      "source": [
        "Write a program to accept the cost price  of a bike as input and display the road tax to be paid according to the following crieteria :-\n",
        "\n",
        "Cost price - 100000 Tax - 15%\n",
        "\n",
        "Cost price - between 50000 to 100000 Tax - 10%\n",
        "\n",
        "Cost price - less than 50000 Tax - 5%"
      ]
    },
    {
      "cell_type": "code",
      "execution_count": null,
      "metadata": {
        "id": "TdHw-M2Z3lkL"
      },
      "outputs": [
        {
          "ename": "",
          "evalue": "",
          "output_type": "error",
          "traceback": [
            "\u001b[1;31mRunning cells with 'Python 3.9.2' requires the ipykernel package.\n",
            "\u001b[1;31mRun the following command to install 'ipykernel' into the Python environment. \n",
            "\u001b[1;31mCommand: 'c:/Users/lenovo/AppData/Local/Programs/Python/Python39/python.exe -m pip install ipykernel -U --user --force-reinstall'"
          ]
        }
      ],
      "source": [
        "cost = int(input('Enter the price of bike:'))\n",
        "if cost==100000:\n",
        "    new_cost=cost*0.15\n",
        "    print(new_cost)\n",
        "elif 50000 < cost > 100000:\n",
        "    new_cost=cost*0.1    \n",
        "elif cost<500000:\n",
        "    new_cost=cost*0.5\n",
        "    print(new_cost)"
      ]
    },
    {
      "cell_type": "markdown",
      "metadata": {
        "id": "4qwB-dyV2vdv"
      },
      "source": [
        "Write a program to calculate the electricity bill by accepting the number of units consumed by the user as input. Use the following price chart for reference :-\n",
        "\n",
        "Price of first 100 units - no charge\n",
        "\n",
        "Price of next 100 units - Rs 5/- per unit\n",
        "\n",
        "After 200 units - Rs 10/- per unit"
      ]
    },
    {
      "cell_type": "code",
      "execution_count": null,
      "metadata": {
        "id": "9CRK7oBa2rjP"
      },
      "outputs": [
        {
          "ename": "",
          "evalue": "",
          "output_type": "error",
          "traceback": [
            "\u001b[1;31mRunning cells with 'Python 3.9.2' requires the ipykernel package.\n",
            "\u001b[1;31mRun the following command to install 'ipykernel' into the Python environment. \n",
            "\u001b[1;31mCommand: 'c:/Users/lenovo/AppData/Local/Programs/Python/Python39/python.exe -m pip install ipykernel -U --user --force-reinstall'"
          ]
        }
      ],
      "source": [
        "units=int(input('Enter the no. of units'))\n",
        "if units<100:\n",
        "    print('No charge will be applied')\n",
        "elif units>100:\n",
        "    print('the bill will be',units*5)\n",
        "elif units>200:\n",
        "    print(\"the bill will be\",units*10)    "
      ]
    }
  ],
  "metadata": {
    "colab": {
      "provenance": []
    },
    "kernelspec": {
      "display_name": "Python 3",
      "name": "python3"
    },
    "language_info": {
      "name": "python",
      "version": "3.9.2"
    }
  },
  "nbformat": 4,
  "nbformat_minor": 0
}
