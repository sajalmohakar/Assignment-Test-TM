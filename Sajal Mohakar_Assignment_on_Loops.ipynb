{
  "cells": [
    {
      "cell_type": "markdown",
      "metadata": {
        "id": "MdAkQQ_Y4wwG"
      },
      "source": [
        "Write a program which accepts month's name as input and display the number of days in the month as output"
      ]
    },
    {
      "cell_type": "code",
      "execution_count": null,
      "metadata": {
        "id": "5CHcmXp1CKEa"
      },
      "outputs": [],
      "source": [
        "month_name=input(\"Enter the month_name:\") # type:  ignore\n",
        "if month_name: \"January\" \n",
        "for i in range(1,32):\n",
        "    print(i, end =\" \")\n",
        "    break\n",
        "if month_name: \"February\" \n",
        "for i in range(1,29):\n",
        "    print(i, end =\" \")\n",
        "    break\n",
        "if month_name: \"March\" \n",
        "for i in range(1,32):\n",
        "    print(i, end =\" \")\n",
        "\n",
        "if month_name: \"April\" \n",
        "for i in range(1,31):    \n",
        "    print(i, end =\" \")  \n",
        "\n",
        "# and so on\n"
      ]
    },
    {
      "cell_type": "markdown",
      "metadata": {
        "id": "Q8cCBC198J6M"
      },
      "source": [
        "Take any word as input from the user and count the number of vowels in the word"
      ]
    },
    {
      "cell_type": "code",
      "execution_count": null,
      "metadata": {
        "id": "fCmmgoZfCKga"
      },
      "outputs": [],
      "source": [
        "Words=input(\"Enter Your Word:\")\n",
        "vowels='a','e','i','o','u'\n",
        "if vowels in Words:\n",
        "    for char in vowels:\n",
        "        print(count(char))"
      ]
    },
    {
      "cell_type": "markdown",
      "metadata": {
        "id": "1ugWwVXd49OI"
      },
      "source": [
        "Write a program to separate even and odd numbers in two distinct lists from a list of numbers of your choice"
      ]
    },
    {
      "cell_type": "code",
      "execution_count": null,
      "metadata": {
        "id": "p0MPJzU6CK6f"
      },
      "outputs": [],
      "source": []
    },
    {
      "cell_type": "markdown",
      "metadata": {
        "id": "uaqnGrhs49Mf"
      },
      "source": [
        "Write a program that appends datatype of elements from a list to a separate list"
      ]
    },
    {
      "cell_type": "code",
      "execution_count": null,
      "metadata": {
        "id": "ypNro7WSCLX7"
      },
      "outputs": [],
      "source": []
    },
    {
      "cell_type": "markdown",
      "metadata": {
        "id": "ddMu0Pj1643Y"
      },
      "source": [
        "Write a program to display only those numbers from a list that satisfies the following conditions:\n",
        "\n",
        "1. The number must be divisible by 7\n",
        "\n",
        "2. If the number is 140 then skip it and move to the next number in the list\n",
        "\n",
        "3. If the number in the list is greater than 630 then stop the loop"
      ]
    },
    {
      "cell_type": "code",
      "execution_count": null,
      "metadata": {
        "id": "230Qc9UHTK5-"
      },
      "outputs": [],
      "source": [
        "def filter_numbers(numbers):\n",
        "    number =int(input(\"Enter the no.:\"))\n",
        "    for number in numbers:\n",
        "        if number > 630:\n",
        "            break\n",
        "        if number == 140:\n",
        "            continue\n",
        "        if number % 7 == 0:\n",
        "            print(number)\n",
        "\n",
        "filter_numbers()\n"
      ]
    }
  ],
  "metadata": {
    "colab": {
      "provenance": []
    },
    "kernelspec": {
      "display_name": "Python 3",
      "name": "python3"
    },
    "language_info": {
      "name": "python"
    }
  },
  "nbformat": 4,
  "nbformat_minor": 0
}
